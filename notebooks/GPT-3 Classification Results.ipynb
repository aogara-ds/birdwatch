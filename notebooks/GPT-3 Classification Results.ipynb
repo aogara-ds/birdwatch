{
 "cells": [
  {
   "cell_type": "code",
   "execution_count": 46,
   "id": "7227ac0a",
   "metadata": {},
   "outputs": [],
   "source": [
    "import numpy as np\n",
    "import pandas as pd\n",
    "import matplotlib as plt\n",
    "from sklearn import metrics"
   ]
  },
  {
   "cell_type": "code",
   "execution_count": null,
   "id": "3ea0ce05",
   "metadata": {},
   "outputs": [],
   "source": [
    "# Read and clean results\n",
    "results = pd.read_csv('../data/test-gpt3.csv')\n",
    "\n",
    "# Drop rows with no GPT prediction\n",
    "results = results[results['gptTrue'].notnull()]\n",
    "\n",
    "# Generate numerical flags for argmax prediction\n",
    "results['humanBinary'] = results['humanLabel'].replace({'True': 1, 'False': 0}).astype(int)\n",
    "results['gptBinary'] = results.apply(lambda x: 1 if x.gptTrue > x.gptFalse else 0, axis=1)"
   ]
  },
  {
   "cell_type": "markdown",
   "id": "a5e7b8cd",
   "metadata": {},
   "source": [
    "Analyzing the results of our first 700 predictions through the GPT-3 API. These results do not include any of the major techniques for improving performance on classification tasks, such as data cleaning, fine tuning, hyperparameter search, prompt engineering, evidence gathering, or reward learning.  \n",
    "\n",
    "Therefore, these results should be understood as a proof-of-concept and a minimum baseline for future classification performance. \n",
    "\n",
    "**Labeling Note:**\n",
    "* \"True\" means \"not misleading\"\n",
    "* \"False\" means \"misinformed or potentially misleading\""
   ]
  },
  {
   "cell_type": "code",
   "execution_count": 40,
   "id": "c6072dd2",
   "metadata": {},
   "outputs": [
    {
     "data": {
      "text/html": [
       "<div>\n",
       "<style scoped>\n",
       "    .dataframe tbody tr th:only-of-type {\n",
       "        vertical-align: middle;\n",
       "    }\n",
       "\n",
       "    .dataframe tbody tr th {\n",
       "        vertical-align: top;\n",
       "    }\n",
       "\n",
       "    .dataframe thead th {\n",
       "        text-align: right;\n",
       "    }\n",
       "</style>\n",
       "<table border=\"1\" class=\"dataframe\">\n",
       "  <thead>\n",
       "    <tr style=\"text-align: right;\">\n",
       "      <th></th>\n",
       "      <th>noteId</th>\n",
       "      <th>tweetText</th>\n",
       "      <th>humanLabel</th>\n",
       "      <th>gptTrue</th>\n",
       "      <th>gptFalse</th>\n",
       "      <th>gptUnknown</th>\n",
       "      <th>humanBinary</th>\n",
       "      <th>gptBinary</th>\n",
       "    </tr>\n",
       "  </thead>\n",
       "  <tbody>\n",
       "    <tr>\n",
       "      <th>0</th>\n",
       "      <td>1376590348382650000</td>\n",
       "      <td>Military's Tracking: \\n\\n#Trump WON w/ 80 Mill...</td>\n",
       "      <td>False</td>\n",
       "      <td>0.358771</td>\n",
       "      <td>0.634336</td>\n",
       "      <td>0.006892</td>\n",
       "      <td>0</td>\n",
       "      <td>0</td>\n",
       "    </tr>\n",
       "    <tr>\n",
       "      <th>1</th>\n",
       "      <td>1387895055076050000</td>\n",
       "      <td>I didn't gain any \"Pandemic Pounds\"\\nBecause I...</td>\n",
       "      <td>False</td>\n",
       "      <td>0.730130</td>\n",
       "      <td>0.265472</td>\n",
       "      <td>0.004397</td>\n",
       "      <td>0</td>\n",
       "      <td>1</td>\n",
       "    </tr>\n",
       "    <tr>\n",
       "      <th>2</th>\n",
       "      <td>1499792671505880000</td>\n",
       "      <td>Breaking: Zelensky, after saying he would not ...</td>\n",
       "      <td>False</td>\n",
       "      <td>0.505845</td>\n",
       "      <td>0.490933</td>\n",
       "      <td>0.003221</td>\n",
       "      <td>0</td>\n",
       "      <td>1</td>\n",
       "    </tr>\n",
       "    <tr>\n",
       "      <th>3</th>\n",
       "      <td>1392540253676660000</td>\n",
       "      <td>@ronparsell @foxnewsradio @OMAHAGEMGIRL Trump ...</td>\n",
       "      <td>False</td>\n",
       "      <td>0.181402</td>\n",
       "      <td>0.814347</td>\n",
       "      <td>0.004251</td>\n",
       "      <td>0</td>\n",
       "      <td>0</td>\n",
       "    </tr>\n",
       "    <tr>\n",
       "      <th>4</th>\n",
       "      <td>1375524397394480000</td>\n",
       "      <td>@EduCelebrity Unnecessary. Covid doesn't sprea...</td>\n",
       "      <td>False</td>\n",
       "      <td>0.286257</td>\n",
       "      <td>0.709813</td>\n",
       "      <td>0.003930</td>\n",
       "      <td>0</td>\n",
       "      <td>0</td>\n",
       "    </tr>\n",
       "  </tbody>\n",
       "</table>\n",
       "</div>"
      ],
      "text/plain": [
       "                noteId                                          tweetText  \\\n",
       "0  1376590348382650000  Military's Tracking: \\n\\n#Trump WON w/ 80 Mill...   \n",
       "1  1387895055076050000  I didn't gain any \"Pandemic Pounds\"\\nBecause I...   \n",
       "2  1499792671505880000  Breaking: Zelensky, after saying he would not ...   \n",
       "3  1392540253676660000  @ronparsell @foxnewsradio @OMAHAGEMGIRL Trump ...   \n",
       "4  1375524397394480000  @EduCelebrity Unnecessary. Covid doesn't sprea...   \n",
       "\n",
       "   humanLabel   gptTrue  gptFalse  gptUnknown  humanBinary  gptBinary  \n",
       "0       False  0.358771  0.634336    0.006892            0          0  \n",
       "1       False  0.730130  0.265472    0.004397            0          1  \n",
       "2       False  0.505845  0.490933    0.003221            0          1  \n",
       "3       False  0.181402  0.814347    0.004251            0          0  \n",
       "4       False  0.286257  0.709813    0.003930            0          0  "
      ]
     },
     "execution_count": 40,
     "metadata": {},
     "output_type": "execute_result"
    }
   ],
   "source": [
    "# Preview\n",
    "results.head()"
   ]
  },
  {
   "cell_type": "code",
   "execution_count": 42,
   "id": "b6824bea",
   "metadata": {},
   "outputs": [
    {
     "name": "stdout",
     "output_type": "stream",
     "text": [
      "Unweighted Accuracy: 0.4322396576319544\n"
     ]
    }
   ],
   "source": [
    "print(\"Unweighted Accuracy: \" + str(metrics.accuracy_score(results['humanBinary'].values, results['gptBinary'].values)))"
   ]
  },
  {
   "cell_type": "code",
   "execution_count": 44,
   "id": "deb14fd8",
   "metadata": {},
   "outputs": [
    {
     "name": "stdout",
     "output_type": "stream",
     "text": [
      "Average GPT Probability by Human Label\n"
     ]
    },
    {
     "data": {
      "text/html": [
       "<div>\n",
       "<style scoped>\n",
       "    .dataframe tbody tr th:only-of-type {\n",
       "        vertical-align: middle;\n",
       "    }\n",
       "\n",
       "    .dataframe tbody tr th {\n",
       "        vertical-align: top;\n",
       "    }\n",
       "\n",
       "    .dataframe thead th {\n",
       "        text-align: right;\n",
       "    }\n",
       "</style>\n",
       "<table border=\"1\" class=\"dataframe\">\n",
       "  <thead>\n",
       "    <tr style=\"text-align: right;\">\n",
       "      <th></th>\n",
       "      <th>gptTrue</th>\n",
       "      <th>gptFalse</th>\n",
       "    </tr>\n",
       "    <tr>\n",
       "      <th>humanLabel</th>\n",
       "      <th></th>\n",
       "      <th></th>\n",
       "    </tr>\n",
       "  </thead>\n",
       "  <tbody>\n",
       "    <tr>\n",
       "      <th>False</th>\n",
       "      <td>0.522169</td>\n",
       "      <td>0.473849</td>\n",
       "    </tr>\n",
       "    <tr>\n",
       "      <th>True</th>\n",
       "      <td>0.612201</td>\n",
       "      <td>0.384037</td>\n",
       "    </tr>\n",
       "  </tbody>\n",
       "</table>\n",
       "</div>"
      ],
      "text/plain": [
       "             gptTrue  gptFalse\n",
       "humanLabel                    \n",
       "False       0.522169  0.473849\n",
       "True        0.612201  0.384037"
      ]
     },
     "execution_count": 44,
     "metadata": {},
     "output_type": "execute_result"
    }
   ],
   "source": [
    "print(\"Average GPT Probability by Human Label\")\n",
    "results.groupby('humanLabel').agg({'gptTrue': 'mean',\n",
    "                                   'gptFalse': 'mean'})"
   ]
  },
  {
   "cell_type": "code",
   "execution_count": 55,
   "id": "4dd41804",
   "metadata": {},
   "outputs": [
    {
     "name": "stdout",
     "output_type": "stream",
     "text": [
      "Marginally better than random classifier on ROC Curve\n"
     ]
    },
    {
     "data": {
      "text/plain": [
       "<sklearn.metrics._plot.roc_curve.RocCurveDisplay at 0x1fe63b98250>"
      ]
     },
     "execution_count": 55,
     "metadata": {},
     "output_type": "execute_result"
    },
    {
     "data": {
      "image/png": "[encoded data removed]",
      "text/plain": [
       "<Figure size 432x288 with 1 Axes>"
      ]
     },
     "metadata": {
      "needs_background": "light"
     },
     "output_type": "display_data"
    }
   ],
   "source": [
    "print('Marginally better than random classifier on ROC Curve')\n",
    "metrics.RocCurveDisplay.from_predictions(results['humanLabel'], results['gptTrue'])"
   ]
  }
 ],
 "metadata": {
  "kernelspec": {
   "display_name": "Python 3 (ipykernel)",
   "language": "python",
   "name": "python3"
  },
  "language_info": {
   "codemirror_mode": {
    "name": "ipython",
    "version": 3
   },
   "file_extension": ".py",
   "mimetype": "text/x-python",
   "name": "python",
   "nbconvert_exporter": "python",
   "pygments_lexer": "ipython3",
   "version": "3.10.4"
  }
 },
 "nbformat": 4,
 "nbformat_minor": 5
}
